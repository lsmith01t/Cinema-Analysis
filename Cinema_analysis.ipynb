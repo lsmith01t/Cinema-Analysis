{
 "cells": [
  {
   "cell_type": "code",
   "execution_count": 13,
   "id": "3f28e014",
   "metadata": {},
   "outputs": [],
   "source": [
    "import pandas as pd\n",
    "import numpy as np"
   ]
  },
  {
   "cell_type": "code",
   "execution_count": 10,
   "id": "b35d3eff",
   "metadata": {},
   "outputs": [],
   "source": [
    "basics_url=\"https://datasets.imdbws.com/title.basics.tsv.gz\"\n",
    "ratings_url=\"https://datasets.imdbws.com/title.ratings.tsv.gz\"\n",
    "akas_url=\"https://datasets.imdbws.com/title.akas.tsv.gz\""
   ]
  },
  {
   "cell_type": "code",
   "execution_count": 30,
   "id": "9b2e2ba1",
   "metadata": {},
   "outputs": [],
   "source": [
    "basic_df = pd.read_csv(basics_url, sep='\\t', low_memory=False)\n",
    "\n"
   ]
  },
  {
   "cell_type": "code",
   "execution_count": 31,
   "id": "fbedd23b",
   "metadata": {},
   "outputs": [],
   "source": [
    "basic_w = basic_df.copy()"
   ]
  },
  {
   "cell_type": "code",
   "execution_count": null,
   "id": "4a9a4840",
   "metadata": {},
   "outputs": [],
   "source": [
    "ratings_df = pd.read_csv(ratings_url, sep='\\t', low_memory=False)"
   ]
  },
  {
   "cell_type": "code",
   "execution_count": 32,
   "id": "ea59fdbc",
   "metadata": {},
   "outputs": [],
   "source": [
    "ratings_w = ratings_df.copy()"
   ]
  },
  {
   "cell_type": "code",
   "execution_count": null,
   "id": "9fdc3fa0",
   "metadata": {},
   "outputs": [],
   "source": [
    "akas_df = pd.read_csv(akas_url, sep='\\t', low_memory=False)"
   ]
  },
  {
   "cell_type": "code",
   "execution_count": 28,
   "id": "2d4e5b0f",
   "metadata": {},
   "outputs": [],
   "source": [
    "basic_df = basic_df.replace({'\\\\N':np.nan})"
   ]
  },
  {
   "cell_type": "code",
   "execution_count": 16,
   "id": "80b01d17",
   "metadata": {},
   "outputs": [],
   "source": [
    "ratings_df = ratings_df.replace({'\\\\N':np.nan})"
   ]
  },
  {
   "cell_type": "code",
   "execution_count": 17,
   "id": "2eb3c5db",
   "metadata": {},
   "outputs": [],
   "source": [
    "akas_df = akas_df.replace({'\\\\N':np.nan})"
   ]
  },
  {
   "cell_type": "markdown",
   "id": "7c7023f5",
   "metadata": {},
   "source": [
    "## Data Cleaning for Basic Titles"
   ]
  },
  {
   "cell_type": "code",
   "execution_count": 29,
   "id": "d4898a72",
   "metadata": {},
   "outputs": [
    {
     "name": "stdout",
     "output_type": "stream",
     "text": [
      "<class 'pandas.core.series.Series'>\n",
      "Int64Index: 2747754 entries, 0 to 9492812\n",
      "Series name: runtimeMinutes\n",
      "Non-Null Count    Dtype \n",
      "--------------    ----- \n",
      "2747754 non-null  object\n",
      "dtypes: object(1)\n",
      "memory usage: 41.9+ MB\n",
      "None\n"
     ]
    }
   ],
   "source": [
    "\n",
    "print(basic_df.info())"
   ]
  },
  {
   "cell_type": "code",
   "execution_count": 27,
   "id": "081a1d59",
   "metadata": {},
   "outputs": [
    {
     "data": {
      "text/plain": [
       "0     1\n",
       "1     5\n",
       "2     4\n",
       "3    12\n",
       "4     1\n",
       "Name: runtimeMinutes, dtype: object"
      ]
     },
     "execution_count": 27,
     "metadata": {},
     "output_type": "execute_result"
    }
   ],
   "source": [
    "basic_df.head()"
   ]
  },
  {
   "cell_type": "code",
   "execution_count": 19,
   "id": "2a5c5996",
   "metadata": {},
   "outputs": [],
   "source": [
    "basic_df = basic_df['runtimeMinutes'].dropna()"
   ]
  },
  {
   "cell_type": "code",
   "execution_count": null,
   "id": "91d443fd",
   "metadata": {},
   "outputs": [],
   "source": []
  }
 ],
 "metadata": {
  "kernelspec": {
   "display_name": "Python (dojo-env)",
   "language": "python",
   "name": "dojo-env"
  },
  "language_info": {
   "codemirror_mode": {
    "name": "ipython",
    "version": 3
   },
   "file_extension": ".py",
   "mimetype": "text/x-python",
   "name": "python",
   "nbconvert_exporter": "python",
   "pygments_lexer": "ipython3",
   "version": "3.9.13"
  },
  "toc": {
   "base_numbering": 1,
   "nav_menu": {},
   "number_sections": true,
   "sideBar": true,
   "skip_h1_title": false,
   "title_cell": "Table of Contents",
   "title_sidebar": "Contents",
   "toc_cell": false,
   "toc_position": {},
   "toc_section_display": true,
   "toc_window_display": false
  }
 },
 "nbformat": 4,
 "nbformat_minor": 5
}
